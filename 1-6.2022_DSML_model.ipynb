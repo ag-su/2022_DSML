{
 "cells": [
  {
   "cell_type": "code",
   "execution_count": 1,
   "metadata": {},
   "outputs": [],
   "source": [
    "import pandas as pd\n",
    "import os\n",
    "import FinanceDataReader as fdr\n",
    "from tqdm import tqdm\n",
    "import time, os\n",
    "# from multiprocessing import Pool\n",
    "import pymysql\n",
    "import numpy as np"
   ]
  },
  {
   "cell_type": "markdown",
   "metadata": {},
   "source": [
    "# 과제 1"
   ]
  },
  {
   "cell_type": "markdown",
   "metadata": {},
   "source": [
    "- 종목코드"
   ]
  },
  {
   "cell_type": "code",
   "execution_count": 33,
   "metadata": {},
   "outputs": [],
   "source": [
    "import pandas as pd\n",
    "df_stock = pd.read_csv(\"raw_data.csv\") #데이터 불러오기\n",
    "df_stock['종목코드'] = df_stock['종목코드'].apply(lambda x : str(x).zfill(6))\n",
    "lst_stock = df_stock.values.tolist()\n",
    "# print(lst_stock [:10]) "
   ]
  },
  {
   "cell_type": "code",
   "execution_count": 34,
   "metadata": {},
   "outputs": [],
   "source": [
    "# dictionary 저장 후 파일 쓰기\n",
    "dic_code2name = {}\n",
    "for row in lst_stock:\n",
    "    name, code, date = row[1], row[2], row[5]\n",
    "    if date <= '2018-01-01': \n",
    "        dic_code2name[code] = name "
   ]
  },
  {
   "cell_type": "code",
   "execution_count": 35,
   "metadata": {},
   "outputs": [],
   "source": [
    "OF = open('assignment1_multi_processing.txt', 'w', encoding='UTF-8')\n",
    "for cd in dic_code2name: \n",
    "    OF.write(f'{cd}\\t{dic_code2name[cd]}\\n')"
   ]
  },
  {
   "cell_type": "markdown",
   "metadata": {},
   "source": [
    "----------------"
   ]
  },
  {
   "cell_type": "markdown",
   "metadata": {},
   "source": [
    "- sql 에서 데이터 불러오기 "
   ]
  },
  {
   "cell_type": "code",
   "execution_count": 8,
   "metadata": {},
   "outputs": [],
   "source": [
    "db_dsml = pymysql.connect(\n",
    "    host = 'localhost', \n",
    "    port = 3306, \n",
    "    user = 'stock_user', \n",
    "    passwd = 'bigdata', \n",
    "    db = 'stock_db', \n",
    "    charset = 'utf8'\n",
    ")"
   ]
  },
  {
   "cell_type": "code",
   "execution_count": 9,
   "metadata": {},
   "outputs": [],
   "source": [
    "cursor = db_dsml.cursor()"
   ]
  },
  {
   "cell_type": "code",
   "execution_count": 4,
   "metadata": {},
   "outputs": [],
   "source": [
    "sql_query = '''\n",
    "SELECT \n",
    "* \n",
    "FROM stock'''"
   ]
  },
  {
   "cell_type": "code",
   "execution_count": 5,
   "metadata": {},
   "outputs": [],
   "source": [
    "data = pd.read_sql(sql=sql_query, con=db_dsml)"
   ]
  },
  {
   "cell_type": "code",
   "execution_count": 6,
   "metadata": {},
   "outputs": [
    {
     "data": {
      "text/html": [
       "<div>\n",
       "<style scoped>\n",
       "    .dataframe tbody tr th:only-of-type {\n",
       "        vertical-align: middle;\n",
       "    }\n",
       "\n",
       "    .dataframe tbody tr th {\n",
       "        vertical-align: top;\n",
       "    }\n",
       "\n",
       "    .dataframe thead th {\n",
       "        text-align: right;\n",
       "    }\n",
       "</style>\n",
       "<table border=\"1\" class=\"dataframe\">\n",
       "  <thead>\n",
       "    <tr style=\"text-align: right;\">\n",
       "      <th></th>\n",
       "      <th>code</th>\n",
       "      <th>Date</th>\n",
       "      <th>Open</th>\n",
       "      <th>High</th>\n",
       "      <th>Low</th>\n",
       "      <th>Close</th>\n",
       "      <th>Volume</th>\n",
       "      <th>Change</th>\n",
       "    </tr>\n",
       "  </thead>\n",
       "  <tbody>\n",
       "    <tr>\n",
       "      <th>0</th>\n",
       "      <td>000210</td>\n",
       "      <td>2017-01-02</td>\n",
       "      <td>79066</td>\n",
       "      <td>81054</td>\n",
       "      <td>78885</td>\n",
       "      <td>79699</td>\n",
       "      <td>176366</td>\n",
       "      <td>0.012629</td>\n",
       "    </tr>\n",
       "    <tr>\n",
       "      <th>1</th>\n",
       "      <td>000210</td>\n",
       "      <td>2017-01-03</td>\n",
       "      <td>80150</td>\n",
       "      <td>80783</td>\n",
       "      <td>78433</td>\n",
       "      <td>80060</td>\n",
       "      <td>152616</td>\n",
       "      <td>0.004530</td>\n",
       "    </tr>\n",
       "    <tr>\n",
       "      <th>2</th>\n",
       "      <td>000210</td>\n",
       "      <td>2017-01-04</td>\n",
       "      <td>79518</td>\n",
       "      <td>79879</td>\n",
       "      <td>78162</td>\n",
       "      <td>78524</td>\n",
       "      <td>216576</td>\n",
       "      <td>-0.019186</td>\n",
       "    </tr>\n",
       "    <tr>\n",
       "      <th>3</th>\n",
       "      <td>000210</td>\n",
       "      <td>2017-01-05</td>\n",
       "      <td>78433</td>\n",
       "      <td>79969</td>\n",
       "      <td>78433</td>\n",
       "      <td>78976</td>\n",
       "      <td>140319</td>\n",
       "      <td>0.005756</td>\n",
       "    </tr>\n",
       "    <tr>\n",
       "      <th>4</th>\n",
       "      <td>000210</td>\n",
       "      <td>2017-01-06</td>\n",
       "      <td>78975</td>\n",
       "      <td>79518</td>\n",
       "      <td>78162</td>\n",
       "      <td>78886</td>\n",
       "      <td>124240</td>\n",
       "      <td>-0.001140</td>\n",
       "    </tr>\n",
       "    <tr>\n",
       "      <th>...</th>\n",
       "      <td>...</td>\n",
       "      <td>...</td>\n",
       "      <td>...</td>\n",
       "      <td>...</td>\n",
       "      <td>...</td>\n",
       "      <td>...</td>\n",
       "      <td>...</td>\n",
       "      <td>...</td>\n",
       "    </tr>\n",
       "    <tr>\n",
       "      <th>2442921</th>\n",
       "      <td>212310</td>\n",
       "      <td>2021-12-24</td>\n",
       "      <td>7250</td>\n",
       "      <td>7250</td>\n",
       "      <td>7020</td>\n",
       "      <td>7120</td>\n",
       "      <td>97</td>\n",
       "      <td>0.004231</td>\n",
       "    </tr>\n",
       "    <tr>\n",
       "      <th>2442922</th>\n",
       "      <td>212310</td>\n",
       "      <td>2021-12-27</td>\n",
       "      <td>7200</td>\n",
       "      <td>7200</td>\n",
       "      <td>7090</td>\n",
       "      <td>7090</td>\n",
       "      <td>498</td>\n",
       "      <td>-0.004213</td>\n",
       "    </tr>\n",
       "    <tr>\n",
       "      <th>2442923</th>\n",
       "      <td>212310</td>\n",
       "      <td>2021-12-28</td>\n",
       "      <td>7090</td>\n",
       "      <td>7120</td>\n",
       "      <td>6810</td>\n",
       "      <td>6880</td>\n",
       "      <td>1286</td>\n",
       "      <td>-0.029619</td>\n",
       "    </tr>\n",
       "    <tr>\n",
       "      <th>2442924</th>\n",
       "      <td>212310</td>\n",
       "      <td>2021-12-29</td>\n",
       "      <td>7100</td>\n",
       "      <td>7100</td>\n",
       "      <td>6840</td>\n",
       "      <td>7030</td>\n",
       "      <td>233</td>\n",
       "      <td>0.021802</td>\n",
       "    </tr>\n",
       "    <tr>\n",
       "      <th>2442925</th>\n",
       "      <td>212310</td>\n",
       "      <td>2021-12-30</td>\n",
       "      <td>7020</td>\n",
       "      <td>7050</td>\n",
       "      <td>6840</td>\n",
       "      <td>6950</td>\n",
       "      <td>1127</td>\n",
       "      <td>-0.011380</td>\n",
       "    </tr>\n",
       "  </tbody>\n",
       "</table>\n",
       "<p>2442926 rows × 8 columns</p>\n",
       "</div>"
      ],
      "text/plain": [
       "           code       Date   Open   High    Low  Close  Volume    Change\n",
       "0        000210 2017-01-02  79066  81054  78885  79699  176366  0.012629\n",
       "1        000210 2017-01-03  80150  80783  78433  80060  152616  0.004530\n",
       "2        000210 2017-01-04  79518  79879  78162  78524  216576 -0.019186\n",
       "3        000210 2017-01-05  78433  79969  78433  78976  140319  0.005756\n",
       "4        000210 2017-01-06  78975  79518  78162  78886  124240 -0.001140\n",
       "...         ...        ...    ...    ...    ...    ...     ...       ...\n",
       "2442921  212310 2021-12-24   7250   7250   7020   7120      97  0.004231\n",
       "2442922  212310 2021-12-27   7200   7200   7090   7090     498 -0.004213\n",
       "2442923  212310 2021-12-28   7090   7120   6810   6880    1286 -0.029619\n",
       "2442924  212310 2021-12-29   7100   7100   6840   7030     233  0.021802\n",
       "2442925  212310 2021-12-30   7020   7050   6840   6950    1127 -0.011380\n",
       "\n",
       "[2442926 rows x 8 columns]"
      ]
     },
     "execution_count": 6,
     "metadata": {},
     "output_type": "execute_result"
    }
   ],
   "source": [
    "data"
   ]
  },
  {
   "cell_type": "code",
   "execution_count": 7,
   "metadata": {},
   "outputs": [],
   "source": [
    "lst_stock = data.values.tolist()"
   ]
  },
  {
   "cell_type": "markdown",
   "metadata": {},
   "source": [
    "----------------"
   ]
  },
  {
   "cell_type": "markdown",
   "metadata": {},
   "source": [
    "# 과제 2 / 과제 3 - train dataset"
   ]
  },
  {
   "cell_type": "code",
   "execution_count": 75,
   "metadata": {},
   "outputs": [],
   "source": [
    "db_dsml = pymysql.connect(\n",
    "    host = 'localhost', \n",
    "    port = 3306, \n",
    "    user = 'stock_user', \n",
    "    passwd = 'bigdata', \n",
    "    db = 'stock', \n",
    "    charset = 'utf8'\n",
    ")\n",
    "\n",
    "cursor = db_dsml.cursor()"
   ]
  },
  {
   "cell_type": "code",
   "execution_count": 100,
   "metadata": {},
   "outputs": [
    {
     "name": "stderr",
     "output_type": "stream",
     "text": [
      "100%|██████████| 1999/1999 [00:40<00:00, 49.00it/s]\n"
     ]
    }
   ],
   "source": [
    "OF = open('assignment3_sql1.txt', 'w', encoding = 'utf-8')\n",
    "for code in tqdm(dic_code2name.keys()):\n",
    "    sql_query = '''\n",
    "                SELECT *\n",
    "                FROM stock_{}\n",
    "                '''.format(code)\n",
    "    stock = pd.read_sql(sql = sql_query, con = db_dsml)\n",
    "    lst_stock = stock.values.tolist()\n",
    "    \n",
    "    for i, row in enumerate(lst_stock):\n",
    "        date, close, volume = row[0], row[4], row[5]\n",
    "        trading_value = close*volume\n",
    "        if trading_value >= 100000000000:\n",
    "            if i < 9: \n",
    "                continue\n",
    "                \n",
    "            sub_stock = lst_stock[i-9: i+1]\n",
    "\n",
    "            result=[]\n",
    "\n",
    "            for j, row2 in enumerate(sub_stock):\n",
    "                open_, high, low, close, volume = row2[2:7]\n",
    "                trading_value = close * volume\n",
    "                result+=[open_, high, low, close, trading_value]\n",
    "            result=','.join(map(str,result))\n",
    "            ratio = int(lst_stock_train[i+1][-1]>=0.02)\n",
    "            OF.write('\\t'.join(map(str,[code,date.date().strftime(\"%Y%m%d\"),result,ratio])) + '\\n')              \n",
    "\n",
    "OF.close()"
   ]
  },
  {
   "cell_type": "code",
   "execution_count": 63,
   "metadata": {},
   "outputs": [
    {
     "name": "stderr",
     "output_type": "stream",
     "text": [
      "100%|██████████| 1999/1999 [00:40<00:00, 49.65it/s]\n"
     ]
    }
   ],
   "source": [
    "dic_code2date = {}\n",
    "\n",
    "OF = open('assignment2_sql2.txt', 'w', encoding = 'utf-8')\n",
    "for code in tqdm(dic_code2name.keys()):\n",
    "    sql_query = '''\n",
    "                SELECT *\n",
    "                FROM stock_{}\n",
    "                '''.format(code)\n",
    "    stock = pd.read_sql(sql = sql_query, con = db_dsml)\n",
    "    lst_stock = stock.values.tolist()\n",
    "    \n",
    "    for row in lst_stock:\n",
    "        if row[4] * row[5] >= 100000000000:\n",
    "            data = '{}\\t{}\\n'.format(code, row[0].strftime('%Y%m%d'))\n",
    "            OF.write(data)\n",
    "            if code not in dic_code2date.keys():\n",
    "                dic_code2date[code] = []\n",
    "                dic_code2date[code].append(row[0].strftime('%Y%m%d'))\n",
    "            else:\n",
    "                dic_code2date[code].append(row[0].strftime('%Y%m%d'))\n",
    "OF.close()"
   ]
  },
  {
   "cell_type": "code",
   "execution_count": 112,
   "metadata": {},
   "outputs": [
    {
     "name": "stderr",
     "output_type": "stream",
     "text": [
      "100%|██████████| 1182/1182 [00:27<00:00, 43.07it/s]\n"
     ]
    }
   ],
   "source": [
    "OF = open('assignment3_sql2.txt', 'w', encoding = 'utf-8')\n",
    "for code in tqdm(dic_code2date.keys()):\n",
    "    sql_query = '''\n",
    "                SELECT *\n",
    "                FROM stock_{}\n",
    "                '''.format(code)\n",
    "    stock = pd.read_sql(sql = sql_query, con = db_dsml)\n",
    "    lst_stock = stock.values.tolist()\n",
    "    \n",
    "    for i, row in enumerate(lst_stock):\n",
    "               \n",
    "        if (i < 9) or (i >= len(lst_stock)-1):\n",
    "            continue\n",
    "\n",
    "        date = row[0].date().strftime('%Y%m%d')\n",
    "        \n",
    "        \n",
    "        if date not in dic_code2date[code]:\n",
    "            continue\n",
    "\n",
    "        sub_stock = lst_stock[i-9:i+1]\n",
    "        result=[]\n",
    "        for j, row2 in enumerate(sub_stock):\n",
    "            open_, high, low, close, volume = row2[1:6]\n",
    "            trading_value = close * volume\n",
    "            result+=[open_, high, low, close, trading_value]\n",
    "        result=','.join(map(str,result))\n",
    "        ratio = int(lst_stock_train[i+1][-1]>=0.02)\n",
    "        OF.write('\\t'.join(map(str,[code,date,result,ratio])) + '\\n')              \n",
    "\n",
    "OF.close()"
   ]
  },
  {
   "cell_type": "code",
   "execution_count": null,
   "metadata": {},
   "outputs": [],
   "source": [
    "for code in tqdm(dic_code2date):   \n",
    "    for i, row in enumerate(lst_stock_train):\n",
    "        if i < 9:\n",
    "            continue\n",
    "\n",
    "        date = row[1].date().strftime(\"%Y%m%d\")\n",
    "\n",
    "        if date not in dic_code2date[code]:\n",
    "            continue\n",
    "\n",
    "        sub_stock = lst_stock_train[i-9:i+1]\n",
    "        result=[]\n",
    "        for j, row2 in enumerate(sub_stock):\n",
    "            open_, high, low, close, volume = row2[2:7]\n",
    "            trading_value = close * volume\n",
    "            result+=[open_, high, low, close, trading_value]\n",
    "        result=','.join(map(str,result))\n",
    "        ratio = int(lst_stock_train[i+1][-1]>=0.02)\n",
    "    #         print('\\t'.join(map(str,[code,date,result,ratio])) + '\\n')"
   ]
  },
  {
   "cell_type": "code",
   "execution_count": 24,
   "metadata": {},
   "outputs": [],
   "source": [
    "sql_query = '''\n",
    "SELECT \n",
    "* \n",
    "FROM stock\n",
    "WHERE Date BETWEEN '2018-01-01' AND '2020-12-31'\n",
    "'''"
   ]
  },
  {
   "cell_type": "code",
   "execution_count": 25,
   "metadata": {},
   "outputs": [],
   "source": [
    "data_train = pd.read_sql(sql=sql_query, con=db_dsml)"
   ]
  },
  {
   "cell_type": "code",
   "execution_count": 26,
   "metadata": {},
   "outputs": [
    {
     "data": {
      "text/html": [
       "<div>\n",
       "<style scoped>\n",
       "    .dataframe tbody tr th:only-of-type {\n",
       "        vertical-align: middle;\n",
       "    }\n",
       "\n",
       "    .dataframe tbody tr th {\n",
       "        vertical-align: top;\n",
       "    }\n",
       "\n",
       "    .dataframe thead th {\n",
       "        text-align: right;\n",
       "    }\n",
       "</style>\n",
       "<table border=\"1\" class=\"dataframe\">\n",
       "  <thead>\n",
       "    <tr style=\"text-align: right;\">\n",
       "      <th></th>\n",
       "      <th>code</th>\n",
       "      <th>Date</th>\n",
       "      <th>Open</th>\n",
       "      <th>High</th>\n",
       "      <th>Low</th>\n",
       "      <th>Close</th>\n",
       "      <th>Volume</th>\n",
       "      <th>Change</th>\n",
       "    </tr>\n",
       "  </thead>\n",
       "  <tbody>\n",
       "    <tr>\n",
       "      <th>0</th>\n",
       "      <td>000210</td>\n",
       "      <td>2018-01-02</td>\n",
       "      <td>73734</td>\n",
       "      <td>74367</td>\n",
       "      <td>73373</td>\n",
       "      <td>73916</td>\n",
       "      <td>108903</td>\n",
       "      <td>-0.007279</td>\n",
       "    </tr>\n",
       "    <tr>\n",
       "      <th>1</th>\n",
       "      <td>000210</td>\n",
       "      <td>2018-01-03</td>\n",
       "      <td>73644</td>\n",
       "      <td>74548</td>\n",
       "      <td>73644</td>\n",
       "      <td>73735</td>\n",
       "      <td>103242</td>\n",
       "      <td>-0.002449</td>\n",
       "    </tr>\n",
       "    <tr>\n",
       "      <th>2</th>\n",
       "      <td>000210</td>\n",
       "      <td>2018-01-04</td>\n",
       "      <td>74367</td>\n",
       "      <td>76807</td>\n",
       "      <td>74096</td>\n",
       "      <td>76536</td>\n",
       "      <td>262490</td>\n",
       "      <td>0.037987</td>\n",
       "    </tr>\n",
       "    <tr>\n",
       "      <th>3</th>\n",
       "      <td>000210</td>\n",
       "      <td>2018-01-05</td>\n",
       "      <td>76987</td>\n",
       "      <td>77259</td>\n",
       "      <td>75451</td>\n",
       "      <td>76084</td>\n",
       "      <td>145511</td>\n",
       "      <td>-0.005906</td>\n",
       "    </tr>\n",
       "    <tr>\n",
       "      <th>4</th>\n",
       "      <td>000210</td>\n",
       "      <td>2018-01-08</td>\n",
       "      <td>76174</td>\n",
       "      <td>77801</td>\n",
       "      <td>74909</td>\n",
       "      <td>76807</td>\n",
       "      <td>158269</td>\n",
       "      <td>0.009503</td>\n",
       "    </tr>\n",
       "    <tr>\n",
       "      <th>...</th>\n",
       "      <td>...</td>\n",
       "      <td>...</td>\n",
       "      <td>...</td>\n",
       "      <td>...</td>\n",
       "      <td>...</td>\n",
       "      <td>...</td>\n",
       "      <td>...</td>\n",
       "      <td>...</td>\n",
       "    </tr>\n",
       "    <tr>\n",
       "      <th>1475257</th>\n",
       "      <td>212310</td>\n",
       "      <td>2020-12-23</td>\n",
       "      <td>4990</td>\n",
       "      <td>4990</td>\n",
       "      <td>4100</td>\n",
       "      <td>4540</td>\n",
       "      <td>272</td>\n",
       "      <td>0.031818</td>\n",
       "    </tr>\n",
       "    <tr>\n",
       "      <th>1475258</th>\n",
       "      <td>212310</td>\n",
       "      <td>2020-12-24</td>\n",
       "      <td>4595</td>\n",
       "      <td>4595</td>\n",
       "      <td>4005</td>\n",
       "      <td>4515</td>\n",
       "      <td>705</td>\n",
       "      <td>-0.005507</td>\n",
       "    </tr>\n",
       "    <tr>\n",
       "      <th>1475259</th>\n",
       "      <td>212310</td>\n",
       "      <td>2020-12-28</td>\n",
       "      <td>4985</td>\n",
       "      <td>4985</td>\n",
       "      <td>4065</td>\n",
       "      <td>4640</td>\n",
       "      <td>10</td>\n",
       "      <td>0.027685</td>\n",
       "    </tr>\n",
       "    <tr>\n",
       "      <th>1475260</th>\n",
       "      <td>212310</td>\n",
       "      <td>2020-12-29</td>\n",
       "      <td>4010</td>\n",
       "      <td>4590</td>\n",
       "      <td>4010</td>\n",
       "      <td>4590</td>\n",
       "      <td>3</td>\n",
       "      <td>-0.010776</td>\n",
       "    </tr>\n",
       "    <tr>\n",
       "      <th>1475261</th>\n",
       "      <td>212310</td>\n",
       "      <td>2020-12-30</td>\n",
       "      <td>3905</td>\n",
       "      <td>4845</td>\n",
       "      <td>3905</td>\n",
       "      <td>4050</td>\n",
       "      <td>21</td>\n",
       "      <td>-0.117647</td>\n",
       "    </tr>\n",
       "  </tbody>\n",
       "</table>\n",
       "<p>1475262 rows × 8 columns</p>\n",
       "</div>"
      ],
      "text/plain": [
       "           code       Date   Open   High    Low  Close  Volume    Change\n",
       "0        000210 2018-01-02  73734  74367  73373  73916  108903 -0.007279\n",
       "1        000210 2018-01-03  73644  74548  73644  73735  103242 -0.002449\n",
       "2        000210 2018-01-04  74367  76807  74096  76536  262490  0.037987\n",
       "3        000210 2018-01-05  76987  77259  75451  76084  145511 -0.005906\n",
       "4        000210 2018-01-08  76174  77801  74909  76807  158269  0.009503\n",
       "...         ...        ...    ...    ...    ...    ...     ...       ...\n",
       "1475257  212310 2020-12-23   4990   4990   4100   4540     272  0.031818\n",
       "1475258  212310 2020-12-24   4595   4595   4005   4515     705 -0.005507\n",
       "1475259  212310 2020-12-28   4985   4985   4065   4640      10  0.027685\n",
       "1475260  212310 2020-12-29   4010   4590   4010   4590       3 -0.010776\n",
       "1475261  212310 2020-12-30   3905   4845   3905   4050      21 -0.117647\n",
       "\n",
       "[1475262 rows x 8 columns]"
      ]
     },
     "execution_count": 26,
     "metadata": {},
     "output_type": "execute_result"
    }
   ],
   "source": [
    "data_train"
   ]
  },
  {
   "cell_type": "code",
   "execution_count": 31,
   "metadata": {},
   "outputs": [],
   "source": [
    "OF = open(\"assignment3-EX.txt\", 'w')\n",
    "\n",
    "for i, row in enumerate(lst_stock_train):\n",
    "    code, date, close, volume = row[0], row[1], row[5], row[6]\n",
    "    trading_value = close*volume\n",
    "    if trading_value >= 100000000000:\n",
    "        \n",
    "        # i-9 번째 code 와 i번 째 code가 같지 않거나 , i+1번째 code와 i번 쩨 code가 같지 않으면 continue\n",
    "        i_9 = lst_stock_train[i-9][0] != lst_stock_train[i][0]\n",
    "        i_1 = lst_stock_train[i+1][0] != lst_stock_train[i][0]\n",
    "        \n",
    "        if (i < 9) or (i_9) or (i_1): \n",
    "            continue\n",
    "\n",
    "        sub_stock = lst_stock_train[i-9: i+1]\n",
    "        \n",
    "        result=[]\n",
    "        \n",
    "        for j, row2 in enumerate(sub_stock):\n",
    "            open_, high, low, close, volume = row2[2:7]\n",
    "            trading_value = close * volume\n",
    "            result+=[open_, high, low, close, trading_value]\n",
    "        result=','.join(map(str,result))\n",
    "        ratio = int(lst_stock_train[i+1][-1]>=0.02)\n",
    "        OF.write('\\t'.join(map(str,[code,date.date().strftime(\"%Y%m%d\"),result,ratio])) + '\\n')      \n",
    "    \n",
    "OF.close()"
   ]
  },
  {
   "cell_type": "code",
   "execution_count": 16,
   "metadata": {},
   "outputs": [
    {
     "data": {
      "text/plain": [
       "806"
      ]
     },
     "execution_count": 16,
     "metadata": {},
     "output_type": "execute_result"
    }
   ],
   "source": [
    "len(dic_code2date)"
   ]
  },
  {
   "cell_type": "code",
   "execution_count": null,
   "metadata": {},
   "outputs": [],
   "source": []
  },
  {
   "cell_type": "code",
   "execution_count": null,
   "metadata": {},
   "outputs": [],
   "source": [
    "select *\n",
    "from stock\n",
    "use index_code\n",
    "where code='000001'\n",
    "\n",
    "sql_query = '''\n",
    "select *\n",
    "from stock\n",
    "use index_code\n",
    "where code='000001', Date BETWEEN '2018-01-01' AND '2020-12-31'\n",
    "'''"
   ]
  },
  {
   "cell_type": "code",
   "execution_count": null,
   "metadata": {},
   "outputs": [],
   "source": [
    "data_train = pd.read_sql(sql=sql_query, con=db_dsml)"
   ]
  },
  {
   "cell_type": "markdown",
   "metadata": {},
   "source": [
    "# 과제 3-2 - test dataset"
   ]
  },
  {
   "cell_type": "code",
   "execution_count": null,
   "metadata": {},
   "outputs": [],
   "source": [
    "# (20210101~20210631)"
   ]
  },
  {
   "cell_type": "code",
   "execution_count": 21,
   "metadata": {},
   "outputs": [],
   "source": [
    "OF = open(\"assignment3-2.txt\", 'w')\n",
    "\n",
    "for row in lst_code_date: \n",
    "    for num in range(len(row)): \n",
    "        OF.write('\\t'.join(map(str, row[num])) + '\\n')\n",
    "        \n",
    "OF.close()"
   ]
  },
  {
   "cell_type": "markdown",
   "metadata": {},
   "source": [
    "# 과제 4"
   ]
  },
  {
   "cell_type": "markdown",
   "metadata": {},
   "source": [
    "- 4-1 모델 학습 및 모델 저장"
   ]
  },
  {
   "cell_type": "code",
   "execution_count": 6,
   "metadata": {},
   "outputs": [],
   "source": [
    "import numpy as np"
   ]
  },
  {
   "cell_type": "code",
   "execution_count": 4,
   "metadata": {},
   "outputs": [],
   "source": [
    "IF=open(\"assignment3_multi_processing_2.txt\",'r')\n",
    "lst_code_date=[]\n",
    "trainX=[]\n",
    "trainY=[]\n",
    "for line in IF:\n",
    "    code, date, x, y = line.strip().split(\"\\t\")\n",
    "    lst_code_date.append([code, date])\n",
    "    trainX.append(list(map(int, x.split(\",\"))))\n",
    "    trainY.append(int(y))\n",
    "trainX=np.array(trainX)\n",
    "trainY=np.array(trainY)"
   ]
  },
  {
   "cell_type": "code",
   "execution_count": 5,
   "metadata": {},
   "outputs": [
    {
     "data": {
      "text/plain": [
       "array([[      75271,       76265,       74367, ...,       73373,\n",
       "              73916,  8049674148],\n",
       "       [      75451,       75542,       74457, ...,       73644,\n",
       "              73735,  7612548870],\n",
       "       [      74909,       76265,       74638, ...,       74096,\n",
       "              76536, 20089934640],\n",
       "       ...,\n",
       "       [       8750,        8930,        8640, ...,        9120,\n",
       "               9590,  1971253270],\n",
       "       [       8990,        9200,        8560, ...,        8620,\n",
       "               9400,  1342874600],\n",
       "       [       1915,        1915,        1915, ...,        2200,\n",
       "               2200,  1166000000]])"
      ]
     },
     "execution_count": 5,
     "metadata": {},
     "output_type": "execute_result"
    }
   ],
   "source": [
    "trainX"
   ]
  },
  {
   "cell_type": "markdown",
   "metadata": {},
   "source": [
    "- svm 모델링"
   ]
  },
  {
   "cell_type": "code",
   "execution_count": 2,
   "metadata": {},
   "outputs": [],
   "source": [
    "from sklearn import svm"
   ]
  },
  {
   "cell_type": "code",
   "execution_count": null,
   "metadata": {},
   "outputs": [],
   "source": [
    "clf = svm.SVC()\n",
    "clf.fit(trainX, trainY)"
   ]
  },
  {
   "cell_type": "markdown",
   "metadata": {},
   "source": [
    "- xgboost 모델링"
   ]
  },
  {
   "cell_type": "code",
   "execution_count": 6,
   "metadata": {},
   "outputs": [
    {
     "name": "stdout",
     "output_type": "stream",
     "text": [
      "Defaulting to user installation because normal site-packages is not writeable\n",
      "\u001b[33mWARNING: Keyring is skipped due to an exception: Failed to unlock the collection!\u001b[0m\n",
      "Collecting xgboost\n",
      "  Downloading xgboost-1.5.1-py3-none-manylinux2014_x86_64.whl (173.5 MB)\n",
      "\u001b[K     |████████████████████████████████| 173.5 MB 60 kB/s s eta 0:00:01    |█████████                       | 48.8 MB 14.7 MB/s eta 0:00:09\n",
      "\u001b[?25hRequirement already satisfied: numpy in /package/anaconda3.8/lib/python3.8/site-packages (from xgboost) (1.20.1)\n",
      "Requirement already satisfied: scipy in /package/anaconda3.8/lib/python3.8/site-packages (from xgboost) (1.6.2)\n",
      "Installing collected packages: xgboost\n",
      "Successfully installed xgboost-1.5.1\n"
     ]
    }
   ],
   "source": [
    "# ! pip install xgboost"
   ]
  },
  {
   "cell_type": "code",
   "execution_count": 5,
   "metadata": {},
   "outputs": [],
   "source": [
    "from xgboost import XGBClassifier\n",
    "from sklearn.model_selection import GridSearchCV"
   ]
  },
  {
   "cell_type": "code",
   "execution_count": 9,
   "metadata": {},
   "outputs": [],
   "source": [
    "xgb = XGBClassifier(n_estimators = 500, learning_rate = 0.01, max_depth = 4)"
   ]
  },
  {
   "cell_type": "code",
   "execution_count": 10,
   "metadata": {},
   "outputs": [
    {
     "name": "stderr",
     "output_type": "stream",
     "text": [
      "/home/sookim06/.local/lib/python3.8/site-packages/xgboost/sklearn.py:1224: UserWarning: The use of label encoder in XGBClassifier is deprecated and will be removed in a future release. To remove this warning, do the following: 1) Pass option use_label_encoder=False when constructing XGBClassifier object; and 2) Encode your labels (y) as integers starting with 0, i.e. 0, 1, 2, ..., [num_class - 1].\n",
      "  warnings.warn(label_encoder_deprecation_msg, UserWarning)\n"
     ]
    },
    {
     "name": "stdout",
     "output_type": "stream",
     "text": [
      "[14:44:57] WARNING: ../src/learner.cc:1115: Starting in XGBoost 1.3.0, the default evaluation metric used with the objective 'binary:logistic' was changed from 'error' to 'logloss'. Explicitly set eval_metric if you'd like to restore the old behavior.\n"
     ]
    },
    {
     "data": {
      "text/plain": [
       "XGBClassifier(base_score=0.5, booster='gbtree', colsample_bylevel=1,\n",
       "              colsample_bynode=1, colsample_bytree=1, enable_categorical=False,\n",
       "              gamma=0, gpu_id=-1, importance_type=None,\n",
       "              interaction_constraints='', learning_rate=0.01, max_delta_step=0,\n",
       "              max_depth=4, min_child_weight=1, missing=nan,\n",
       "              monotone_constraints='()', n_estimators=500, n_jobs=128,\n",
       "              num_parallel_tree=1, predictor='auto', random_state=0,\n",
       "              reg_alpha=0, reg_lambda=1, scale_pos_weight=1, subsample=1,\n",
       "              tree_method='exact', validate_parameters=1, verbosity=None)"
      ]
     },
     "execution_count": 10,
     "metadata": {},
     "output_type": "execute_result"
    }
   ],
   "source": [
    "xgb.fit(trainX, trainY)"
   ]
  },
  {
   "cell_type": "markdown",
   "metadata": {},
   "source": [
    "-----------------"
   ]
  },
  {
   "cell_type": "code",
   "execution_count": 93,
   "metadata": {},
   "outputs": [],
   "source": [
    "import pickle"
   ]
  },
  {
   "cell_type": "code",
   "execution_count": 13,
   "metadata": {},
   "outputs": [],
   "source": [
    "with open('model_xgb.pickle', 'wb') as f:\n",
    "    pickle.dump(xgb, f)"
   ]
  },
  {
   "cell_type": "markdown",
   "metadata": {},
   "source": [
    "- 4-2. 예측 및 매매"
   ]
  },
  {
   "cell_type": "code",
   "execution_count": 10,
   "metadata": {},
   "outputs": [],
   "source": [
    "import sklearn.metrics as metrics"
   ]
  },
  {
   "cell_type": "code",
   "execution_count": 94,
   "metadata": {},
   "outputs": [],
   "source": [
    "IF=open(\"assignment3-2.txt\",'r')\n",
    "lst_code_date=[]\n",
    "testX=[]\n",
    "testY=[]\n",
    "for line in IF:\n",
    "    code, date, x, y = line.strip().split(\"\\t\")\n",
    "    lst_code_date.append([code, date])\n",
    "    testX.append(list(map(int, x.split(\",\"))))\n",
    "    testY.append(int(y))\n",
    "testX=np.array(testX)\n",
    "testY=np.array(testY)"
   ]
  },
  {
   "cell_type": "code",
   "execution_count": 95,
   "metadata": {},
   "outputs": [],
   "source": [
    "with open('model_xgb.pickle', 'rb') as f:\n",
    "    xgb = pickle.load(f)"
   ]
  },
  {
   "cell_type": "code",
   "execution_count": 98,
   "metadata": {},
   "outputs": [],
   "source": [
    "predY = xgb.predict_proba(testX)"
   ]
  },
  {
   "cell_type": "code",
   "execution_count": 99,
   "metadata": {},
   "outputs": [
    {
     "data": {
      "text/plain": [
       "array([[0.7207302 , 0.2792698 ],\n",
       "       [0.78446805, 0.21553193],\n",
       "       [0.82365155, 0.17634846],\n",
       "       ...,\n",
       "       [0.80025953, 0.19974045],\n",
       "       [0.7811086 , 0.2188914 ],\n",
       "       [0.7734587 , 0.22654128]], dtype=float32)"
      ]
     },
     "execution_count": 99,
     "metadata": {},
     "output_type": "execute_result"
    }
   ],
   "source": [
    "predY"
   ]
  },
  {
   "cell_type": "code",
   "execution_count": null,
   "metadata": {},
   "outputs": [],
   "source": [
    "# predict를 0, 1 로 예측하기 보다는 확률로 예측하고 임계 값 정해서 (0.5) ,,,  \n",
    "# 1이면  buy, 다음 날에 무조건 sell"
   ]
  },
  {
   "cell_type": "code",
   "execution_count": 16,
   "metadata": {},
   "outputs": [],
   "source": [
    "from sklearn.metrics import accuracy_score"
   ]
  },
  {
   "cell_type": "code",
   "execution_count": 17,
   "metadata": {},
   "outputs": [
    {
     "name": "stdout",
     "output_type": "stream",
     "text": [
      "0.8018521317918619\n"
     ]
    }
   ],
   "source": [
    "accuracy = accuracy_score(testY, predY)\n",
    "print(accuracy)"
   ]
  },
  {
   "cell_type": "code",
   "execution_count": 18,
   "metadata": {
    "collapsed": true
   },
   "outputs": [
    {
     "ename": "TypeError",
     "evalue": "write() takes exactly one argument (0 given)",
     "output_type": "error",
     "traceback": [
      "\u001b[0;31m---------------------------------------------------------------------------\u001b[0m",
      "\u001b[0;31mTypeError\u001b[0m                                 Traceback (most recent call last)",
      "\u001b[0;32m<ipython-input-18-113a429577fc>\u001b[0m in \u001b[0;36m<module>\u001b[0;34m\u001b[0m\n\u001b[1;32m      2\u001b[0m \u001b[0;32mfor\u001b[0m \u001b[0;34m(\u001b[0m\u001b[0mcode\u001b[0m\u001b[0;34m,\u001b[0m \u001b[0mdate\u001b[0m\u001b[0;34m)\u001b[0m\u001b[0;34m,\u001b[0m \u001b[0my\u001b[0m \u001b[0;32min\u001b[0m \u001b[0mzip\u001b[0m\u001b[0;34m(\u001b[0m\u001b[0mlst_code_date\u001b[0m\u001b[0;34m,\u001b[0m \u001b[0mpredY\u001b[0m\u001b[0;34m)\u001b[0m\u001b[0;34m:\u001b[0m\u001b[0;34m\u001b[0m\u001b[0;34m\u001b[0m\u001b[0m\n\u001b[1;32m      3\u001b[0m \u001b[0;34m\u001b[0m\u001b[0m\n\u001b[0;32m----> 4\u001b[0;31m     \u001b[0mOF\u001b[0m\u001b[0;34m.\u001b[0m\u001b[0mwrite\u001b[0m\u001b[0;34m(\u001b[0m\u001b[0;34m)\u001b[0m\u001b[0;34m\u001b[0m\u001b[0;34m\u001b[0m\u001b[0m\n\u001b[0m\u001b[1;32m      5\u001b[0m \u001b[0mOF\u001b[0m\u001b[0;34m.\u001b[0m\u001b[0mclose\u001b[0m\u001b[0;34m(\u001b[0m\u001b[0;34m)\u001b[0m\u001b[0;34m\u001b[0m\u001b[0;34m\u001b[0m\u001b[0m\n",
      "\u001b[0;31mTypeError\u001b[0m: write() takes exactly one argument (0 given)"
     ]
    }
   ],
   "source": [
    "OF=open(\"assignment4.txt\",'w')\n",
    "for (code, date), y in zip(lst_code_date, predY):\n",
    "    \n",
    "    OF.write()\n",
    "OF.close()"
   ]
  },
  {
   "cell_type": "code",
   "execution_count": null,
   "metadata": {},
   "outputs": [],
   "source": []
  },
  {
   "cell_type": "code",
   "execution_count": null,
   "metadata": {},
   "outputs": [],
   "source": []
  },
  {
   "cell_type": "code",
   "execution_count": null,
   "metadata": {},
   "outputs": [],
   "source": []
  },
  {
   "cell_type": "code",
   "execution_count": null,
   "metadata": {},
   "outputs": [],
   "source": []
  },
  {
   "cell_type": "code",
   "execution_count": null,
   "metadata": {},
   "outputs": [],
   "source": []
  },
  {
   "cell_type": "code",
   "execution_count": null,
   "metadata": {},
   "outputs": [],
   "source": []
  },
  {
   "cell_type": "code",
   "execution_count": null,
   "metadata": {},
   "outputs": [],
   "source": []
  },
  {
   "cell_type": "code",
   "execution_count": null,
   "metadata": {},
   "outputs": [],
   "source": []
  },
  {
   "cell_type": "code",
   "execution_count": null,
   "metadata": {},
   "outputs": [],
   "source": []
  }
 ],
 "metadata": {
  "kernelspec": {
   "display_name": "Python 3",
   "language": "python",
   "name": "python3"
  },
  "language_info": {
   "codemirror_mode": {
    "name": "ipython",
    "version": 3
   },
   "file_extension": ".py",
   "mimetype": "text/x-python",
   "name": "python",
   "nbconvert_exporter": "python",
   "pygments_lexer": "ipython3",
   "version": "3.7.3"
  }
 },
 "nbformat": 4,
 "nbformat_minor": 5
}
