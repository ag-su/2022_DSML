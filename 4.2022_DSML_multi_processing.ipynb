{
 "cells": [
  {
   "cell_type": "code",
   "execution_count": 1,
   "metadata": {},
   "outputs": [],
   "source": [
    "import pandas as pd\n",
    "import os\n",
    "import FinanceDataReader as fdr\n",
    "from tqdm import tqdm\n",
    "import time, os\n",
    "from multiprocessing import Pool"
   ]
  },
  {
   "cell_type": "markdown",
   "metadata": {},
   "source": [
    "# 과제 1"
   ]
  },
  {
   "cell_type": "markdown",
   "metadata": {},
   "source": [
    "- 종목코드"
   ]
  },
  {
   "cell_type": "code",
   "execution_count": 2,
   "metadata": {},
   "outputs": [],
   "source": [
    "import pandas as pd\n",
    "df_stock = pd.read_csv(\"raw_data.csv\") #데이터 불러오기\n",
    "df_stock['종목코드'] = df_stock['종목코드'].apply(lambda x : str(x).zfill(6))\n",
    "lst_stock = df_stock.values.tolist()\n",
    "# print(lst_stock [:10]) "
   ]
  },
  {
   "cell_type": "code",
   "execution_count": 3,
   "metadata": {},
   "outputs": [],
   "source": [
    "# dictionary 저장 후 파일 쓰기\n",
    "dic_code2name = {}\n",
    "for row in lst_stock:\n",
    "    name, code, date = row[1], row[2], row[5]\n",
    "    if date <= '2018-01-01': \n",
    "        dic_code2name[code] = name "
   ]
  },
  {
   "cell_type": "code",
   "execution_count": 4,
   "metadata": {},
   "outputs": [],
   "source": [
    "OF = open('assignment1_multi_processing.txt', 'w', encoding='UTF-8')\n",
    "for cd in dic_code2name: \n",
    "    OF.write(f'{cd}\\t{dic_code2name[cd]}\\n')"
   ]
  },
  {
   "cell_type": "markdown",
   "metadata": {},
   "source": [
    "# 과제 2 "
   ]
  },
  {
   "cell_type": "code",
   "execution_count": 5,
   "metadata": {},
   "outputs": [],
   "source": [
    "def make_lst_result(code): \n",
    "    start_date = '20170101'\n",
    "    end_date = '20211231'\n",
    "    \n",
    "    lst_date = []\n",
    "    \n",
    "    stock = fdr.DataReader(code, start = start_date, end = end_date)\n",
    "    stock.reset_index(inplace=True)\n",
    "  \n",
    "    \n",
    "    # dataframe -> list\n",
    "    lst_stock = stock.values.tolist()\n",
    "    \n",
    "    \n",
    "    for stock_row in lst_stock: \n",
    "        if stock_row[4] * stock_row[5] >= 100000000000: \n",
    "            lst_date.append(stock_row[0].date().strftime(\"%Y%m%d\"))\n",
    "        \n",
    "    return [code, lst_date]"
   ]
  },
  {
   "cell_type": "code",
   "execution_count": 6,
   "metadata": {},
   "outputs": [
    {
     "name": "stdout",
     "output_type": "stream",
     "text": [
      "17.84239411354065\n"
     ]
    }
   ],
   "source": [
    "start_time = time.time()\n",
    "num_cores = 10\n",
    "pool = Pool(num_cores)\n",
    "lst_code_date = pool.map(make_lst_result, dic_code2name.keys())\n",
    "print(time.time() - start_time) "
   ]
  },
  {
   "cell_type": "code",
   "execution_count": 8,
   "metadata": {},
   "outputs": [],
   "source": [
    "OF = open(\"assignment2_multi_processing.txt\", \"w\")\n",
    "dic_result = {}\n",
    "\n",
    "for code, lst_date  in lst_code_date:\n",
    "    if lst_date == []:\n",
    "        continue\n",
    "    for date in lst_date:\n",
    "        if code not in dic_result.keys(): \n",
    "            dic_result[code] = []\n",
    "            dic_result[code].append(date)\n",
    "        else: \n",
    "            dic_result[code].append(date)\n",
    "        OF.write(f'{code}\\t{date}\\n')\n",
    "            \n",
    "OF.close()"
   ]
  },
  {
   "cell_type": "markdown",
   "metadata": {},
   "source": [
    "# 과제 3"
   ]
  },
  {
   "cell_type": "code",
   "execution_count": 9,
   "metadata": {},
   "outputs": [],
   "source": [
    "def make_dic_up(lst_code_date):\n",
    "    start_date = '20170101' \n",
    "    end_date = '20211231' \n",
    "    code, lst_date = lst_code_date\n",
    "    lst_result_up = []\n",
    "    \n",
    "    stock = fdr.DataReader(code, start = start_date, end = end_date)\n",
    "    stock.reset_index(inplace=True)\n",
    "    lst_stock = stock.values.tolist()  \n",
    "    \n",
    "\n",
    "    for idx, stock_val in enumerate(lst_stock):\n",
    "        if (idx < 9) or (idx >= len(lst_stock)-1): \n",
    "            continue \n",
    "            \n",
    "        date = stock_val[0].date().strftime(\"%Y%m%d\")\n",
    "        if date not in lst_date:\n",
    "            continue\n",
    "            \n",
    "                                                \n",
    "        D9_idx = idx-9\n",
    "        next_idx = idx+1\n",
    "\n",
    "        # 10일간의 데이터 (info)\n",
    "        info_list = []\n",
    "        for day_info in lst_stock[D9_idx: next_idx]:\n",
    "            info_list += day_info[1:5] + [(day_info[4] * day_info[5])]\n",
    "            \n",
    "        info = ','.join(map(str, info_list))\n",
    "\n",
    "        # D+1 종가 2% 상승 여부 (up) \n",
    "        up = int(lst_stock[next_idx][-1] >= 0.02)    \n",
    "\n",
    "        lst_result_up.append([code, date, info, up])\n",
    "\n",
    "    return lst_result_up"
   ]
  },
  {
   "cell_type": "code",
   "execution_count": 10,
   "metadata": {
    "scrolled": true
   },
   "outputs": [
    {
     "name": "stdout",
     "output_type": "stream",
     "text": [
      "10.134265422821045\n"
     ]
    }
   ],
   "source": [
    "start_time = time.time()\n",
    "num_cores = 20\n",
    "pool = Pool(num_cores)\n",
    "lst_code_date = pool.map(make_dic_up, lst_code_date)\n",
    "print(time.time() - start_time) "
   ]
  },
  {
   "cell_type": "code",
   "execution_count": 11,
   "metadata": {},
   "outputs": [],
   "source": [
    "OF = open(\"assignment3_multi_processing_3.txt\", 'w')\n",
    "\n",
    "for row in lst_code_date: \n",
    "    for num in range(len(row)): \n",
    "        OF.write('\\t'.join(map(str, row[num])) + '\\n')\n",
    "        \n",
    "OF.close()"
   ]
  }
 ],
 "metadata": {
  "kernelspec": {
   "display_name": "Python 3",
   "language": "python",
   "name": "python3"
  },
  "language_info": {
   "codemirror_mode": {
    "name": "ipython",
    "version": 3
   },
   "file_extension": ".py",
   "mimetype": "text/x-python",
   "name": "python",
   "nbconvert_exporter": "python",
   "pygments_lexer": "ipython3",
   "version": "3.7.3"
  }
 },
 "nbformat": 4,
 "nbformat_minor": 5
}
